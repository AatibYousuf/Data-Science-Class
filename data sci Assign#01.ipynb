{
 "cells": [
  {
   "cell_type": "code",
   "execution_count": 1,
   "id": "c933daa9",
   "metadata": {},
   "outputs": [
    {
     "name": "stdout",
     "output_type": "stream",
     "text": [
      "Twinkle, twinkle, little star,\n",
      " \t How I wonder what you are! \n",
      " \t \t Up above the world so high, \n",
      " \t \t Like a diamond in the sky. \n",
      "Twinkle, twinkle, little star, \n",
      " \t How I wonder what you are\n"
     ]
    }
   ],
   "source": [
    "# Question No#01\n",
    "# Write a Python program to print the following string in a specific format (see theoutput)\n",
    "\n",
    "print(\"Twinkle, twinkle, little star,\\n \\t How I wonder what you are! \\n \\t \\t Up above the world so high, \\n \\t \\t Like a diamond in the sky. \\nTwinkle, twinkle, little star, \\n \\t How I wonder what you are\")"
   ]
  },
  {
   "cell_type": "code",
   "execution_count": 2,
   "id": "5a77de08",
   "metadata": {},
   "outputs": [
    {
     "name": "stdout",
     "output_type": "stream",
     "text": [
      "3.8.8\n"
     ]
    }
   ],
   "source": [
    "# Question No#02\n",
    "# Write a Python program to get the Python version you are using\n",
    "\n",
    "from platform import python_version\n",
    "\n",
    "print(python_version())"
   ]
  },
  {
   "cell_type": "code",
   "execution_count": 3,
   "id": "39aec395",
   "metadata": {},
   "outputs": [
    {
     "name": "stdout",
     "output_type": "stream",
     "text": [
      "Today's date: 2021-12-30\n"
     ]
    }
   ],
   "source": [
    "# Question No#03\n",
    "# Write a Python program to display the current date and time.\n",
    "\n",
    "from datetime import date\n",
    "\n",
    "today = date.today()\n",
    "print(\"Today's date:\", today)"
   ]
  },
  {
   "cell_type": "code",
   "execution_count": 4,
   "id": "9de776d0",
   "metadata": {},
   "outputs": [
    {
     "name": "stdout",
     "output_type": "stream",
     "text": [
      "Input the radius of the circle : 3.5\n",
      "The area of the circle with radius 3.5 is: 38.48451000647496\n"
     ]
    }
   ],
   "source": [
    "# Question No#04\n",
    "# Write a Python program which accepts the radius of a circle from the user and compute the area.\n",
    "\n",
    "from math import pi\n",
    "x = float(input (\"Input the radius of the circle : \"))\n",
    "print (\"The area of the circle with radius \" + str(x) + \" is: \" + str(pi * x**2))\n"
   ]
  },
  {
   "cell_type": "code",
   "execution_count": 5,
   "id": "b1291900",
   "metadata": {},
   "outputs": [
    {
     "name": "stdout",
     "output_type": "stream",
     "text": [
      "Type your First Name : Aatib\n",
      "Type your Last Name : yousuf\n",
      "Salaam  yousuf Aatib\n"
     ]
    }
   ],
   "source": [
    "# Question No#05\n",
    "# Write a Python program which accepts the user's first and last name and print them in reverse order with a space between them.\n",
    "\n",
    "first_name = input(\"Type your First Name : \")\n",
    "last_name = input(\"Type your Last Name : \")\n",
    "print (\"Salaam  \" + last_name + \" \" + first_name)"
   ]
  },
  {
   "cell_type": "code",
   "execution_count": 6,
   "id": "338c00f3",
   "metadata": {},
   "outputs": [
    {
     "name": "stdout",
     "output_type": "stream",
     "text": [
      "Please Enter First value. 50\n",
      "Please Enter Second value. 70\n",
      "addition is  120\n"
     ]
    }
   ],
   "source": [
    "# Question No#06\n",
    "# Write a python program which takes two inputs from user and print them addition\n",
    "\n",
    "y = int(input(\"Please Enter First value. \" ));\n",
    "z = int(input(\"Please Enter Second value. \" ));\n",
    "a = y+z;\n",
    "print(\"addition is \", a)"
   ]
  },
  {
   "cell_type": "code",
   "execution_count": null,
   "id": "e23fb0e9",
   "metadata": {},
   "outputs": [],
   "source": []
  }
 ],
 "metadata": {
  "kernelspec": {
   "display_name": "Python 3",
   "language": "python",
   "name": "python3"
  },
  "language_info": {
   "codemirror_mode": {
    "name": "ipython",
    "version": 3
   },
   "file_extension": ".py",
   "mimetype": "text/x-python",
   "name": "python",
   "nbconvert_exporter": "python",
   "pygments_lexer": "ipython3",
   "version": "3.8.8"
  }
 },
 "nbformat": 4,
 "nbformat_minor": 5
}
